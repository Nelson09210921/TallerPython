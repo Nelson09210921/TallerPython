{
  "nbformat": 4,
  "nbformat_minor": 0,
  "metadata": {
    "colab": {
      "name": "04_algEuclideano.ipynb",
      "provenance": [],
      "collapsed_sections": [],
      "authorship_tag": "ABX9TyNXCeB3xT/YRbMuElDBfpTJ",
      "include_colab_link": true
    },
    "kernelspec": {
      "name": "python3",
      "display_name": "Python 3"
    },
    "language_info": {
      "name": "python"
    }
  },
  "cells": [
    {
      "cell_type": "markdown",
      "metadata": {
        "id": "view-in-github",
        "colab_type": "text"
      },
      "source": [
        "<a href=\"https://colab.research.google.com/github/Nelson09210921/TallerPython/blob/main/04_algEuclideano.ipynb\" target=\"_parent\"><img src=\"https://colab.research.google.com/assets/colab-badge.svg\" alt=\"Open In Colab\"/></a>"
      ]
    },
    {
      "cell_type": "code",
      "execution_count": null,
      "metadata": {
        "id": "AAFzfeCBySsB"
      },
      "outputs": [],
      "source": [
        "#Punto 4\n",
        "def mcd(a, b):\n",
        "\n",
        "    #Se busca el valor mas pequeño\n",
        "    if a > b:\n",
        "        pequeño = b\n",
        "    else:\n",
        "        pequeño = a\n",
        "\n",
        "    for i in range(1, pequeño+1):\n",
        "        #Se busca un numero que divida a ambos\n",
        "        if((a % i == 0) and (b % i == 0)):\n",
        "            #El resultado es el maximo comun divisor\n",
        "            mcd = i\n",
        "            \n",
        "    return mcd"
      ]
    },
    {
      "cell_type": "code",
      "source": [
        "def primos_relativos(a,b):\n",
        "  \n",
        "  if (mcd(a,b) == 1):\n",
        "    return \"Si!\"\n",
        "  else:\n",
        "    return \"No!\""
      ],
      "metadata": {
        "id": "QH7Pl8VXy7_h"
      },
      "execution_count": null,
      "outputs": []
    },
    {
      "cell_type": "code",
      "source": [
        "\n",
        "print (mcd(1,5))\n",
        "print (primos_relativos(1,5))"
      ],
      "metadata": {
        "colab": {
          "base_uri": "https://localhost:8080/"
        },
        "id": "GKqtbUo2yVSq",
        "outputId": "ca880c52-a957-471d-b0d3-434c58918487"
      },
      "execution_count": null,
      "outputs": [
        {
          "output_type": "stream",
          "name": "stdout",
          "text": [
            "1\n",
            "Si!\n"
          ]
        }
      ]
    }
  ]
}