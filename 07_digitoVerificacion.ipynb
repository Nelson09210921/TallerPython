{
  "nbformat": 4,
  "nbformat_minor": 0,
  "metadata": {
    "colab": {
      "name": "07_digitoVerificacion.ipynb",
      "provenance": [],
      "collapsed_sections": [],
      "include_colab_link": true
    },
    "kernelspec": {
      "name": "python3",
      "display_name": "Python 3"
    },
    "language_info": {
      "name": "python"
    }
  },
  "cells": [
    {
      "cell_type": "markdown",
      "metadata": {
        "id": "view-in-github",
        "colab_type": "text"
      },
      "source": [
        "<a href=\"https://colab.research.google.com/github/Nelson09210921/TallerPython/blob/main/07_digitoVerificacion.ipynb\" target=\"_parent\"><img src=\"https://colab.research.google.com/assets/colab-badge.svg\" alt=\"Open In Colab\"/></a>"
      ]
    },
    {
      "cell_type": "code",
      "execution_count": null,
      "metadata": {
        "id": "k3nMY6-Z_JhR"
      },
      "outputs": [],
      "source": [
        "#Punto 7\n",
        "def digito_verificacion(a, b, c, d, e, f, g, h, i):\n",
        "  mult = 10\n",
        "  suma_de_digitos = 0\n",
        "  rest = 0\n",
        "  digitos = []\n",
        "  \n",
        "  \n",
        "  \n",
        "  digitos.append(a)\n",
        "  digitos.append(b)\n",
        "  digitos.append(c)\n",
        "  digitos.append(d)\n",
        "  digitos.append(e)\n",
        "  digitos.append(f)\n",
        "  digitos.append(g)\n",
        "  digitos.append(h)\n",
        "  digitos.append(i)\n",
        "  \n",
        "  \n",
        "    \n",
        "    \n",
        "  contador = 0\n",
        "  for i in digitos:\n",
        "    digitos[contador] = i * mult\n",
        "    contador = contador + 1\n",
        "    mult = mult - 1\n",
        "    \n",
        "  \n",
        "  for j in digitos:\n",
        "    suma_de_digitos += j\n",
        "    \n",
        "\n",
        "  rest = 11 - (suma_de_digitos % 11)\n",
        "  if rest == 10:\n",
        "    rest = \"x\"\n",
        "  digitos.append(rest)\n",
        "  print (\"el digito de verificacion es \" , rest)\n",
        "\n",
        "  "
      ]
    },
    {
      "cell_type": "code",
      "source": [
        "digito_verificacion(2,3,8,7,6,5,1,1,3)"
      ],
      "metadata": {
        "colab": {
          "base_uri": "https://localhost:8080/"
        },
        "id": "zP-o7UEe_TAl",
        "outputId": "10739f0d-01da-4fd2-b901-f98b461e6e9a"
      },
      "execution_count": null,
      "outputs": [
        {
          "output_type": "stream",
          "name": "stdout",
          "text": [
            "el digito de verificacion es  8\n"
          ]
        }
      ]
    }
  ]
}