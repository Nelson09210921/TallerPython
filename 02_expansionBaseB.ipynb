{
  "cells": [
    {
      "cell_type": "markdown",
      "metadata": {
        "id": "view-in-github",
        "colab_type": "text"
      },
      "source": [
        "<a href=\"https://colab.research.google.com/github/Nelson09210921/TallerPython/blob/main/02_expansionBaseB.ipynb\" target=\"_parent\"><img src=\"https://colab.research.google.com/assets/colab-badge.svg\" alt=\"Open In Colab\"/></a>"
      ]
    },
    {
      "cell_type": "code",
      "execution_count": null,
      "metadata": {
        "id": "d-M0Fqhw2iA0"
      },
      "outputs": [],
      "source": [
        "#Punto 2\n",
        "def expansion(n,b):\n",
        "\n",
        "    #Creamos una lista donde guardaremos los datos\n",
        "    a = []\n",
        "    \n",
        "    #n debe ser distinto de 0\n",
        "    while n != 0:\n",
        "      m = n % b\n",
        "      a.append(m)\n",
        "      n = n//b\n",
        "    #Se invierte el orden de la lista\n",
        "    final = list(reversed(a))\n",
        "\n",
        "    print(final)"
      ]
    },
    {
      "cell_type": "code",
      "source": [
        "print(expansion(12,2))"
      ],
      "metadata": {
        "colab": {
          "base_uri": "https://localhost:8080/"
        },
        "id": "Wu9DEeDsGeQM",
        "outputId": "91592360-bf63-4df2-c6f7-db6d57bc3bd1"
      },
      "execution_count": null,
      "outputs": [
        {
          "output_type": "stream",
          "name": "stdout",
          "text": [
            "[1, 1, 0, 0]\n",
            "None\n"
          ]
        }
      ]
    }
  ],
  "metadata": {
    "colab": {
      "collapsed_sections": [],
      "name": "02_expansionBaseB.ipynb",
      "provenance": [],
      "authorship_tag": "ABX9TyMkQd8BOhnmLk4gZXavJnbB",
      "include_colab_link": true
    },
    "kernelspec": {
      "display_name": "Python 3",
      "name": "python3"
    },
    "language_info": {
      "name": "python"
    }
  },
  "nbformat": 4,
  "nbformat_minor": 0
}