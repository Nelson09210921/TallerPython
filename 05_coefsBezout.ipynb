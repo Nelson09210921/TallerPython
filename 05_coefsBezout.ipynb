{
  "nbformat": 4,
  "nbformat_minor": 0,
  "metadata": {
    "colab": {
      "name": "05_coefsBezout.ipynb",
      "provenance": [],
      "collapsed_sections": [],
      "include_colab_link": true
    },
    "kernelspec": {
      "name": "python3",
      "display_name": "Python 3"
    },
    "language_info": {
      "name": "python"
    }
  },
  "cells": [
    {
      "cell_type": "markdown",
      "metadata": {
        "id": "view-in-github",
        "colab_type": "text"
      },
      "source": [
        "<a href=\"https://colab.research.google.com/github/Nelson09210921/TallerPython/blob/main/05_coefsBezout.ipynb\" target=\"_parent\"><img src=\"https://colab.research.google.com/assets/colab-badge.svg\" alt=\"Open In Colab\"/></a>"
      ]
    },
    {
      "cell_type": "code",
      "execution_count": null,
      "metadata": {
        "id": "-dHPPutgCpOF"
      },
      "outputs": [],
      "source": [
        "#Punto 5\n",
        "def euclides(a, b):\n",
        "    divisores = []\n",
        "    dividendos = []\n",
        "    residuos = []\n",
        "    cocientes = []\n",
        "\n",
        "    dividendo = a\n",
        "    divisor = b\n",
        "    evaluador = True;\n",
        "    while True:\n",
        "      cociente = dividendo//divisor\n",
        "      residuo = dividendo%divisor\n",
        "      divisores.append(divisor)\n",
        "      dividendos.append(dividendo)\n",
        "      if(evaluador == True):\n",
        "        evaluador = False\n",
        "      else:\n",
        "        cocientes.append(cociente)\n",
        "        residuos.append(residuo)\n",
        "      \n",
        "      dividendo = divisor\n",
        "      divisor = residuo\n",
        "      \n",
        "      if(residuo == 0):\n",
        "        \n",
        "        \n",
        "        CalcularInverso(cocientes)\n",
        "        \n",
        "        break"
      ]
    },
    {
      "cell_type": "code",
      "source": [
        "def CalcularInverso(cocientes):\n",
        "  s = 0;\n",
        "  santerior = 1;\n",
        "  t = 1;\n",
        "  tanterior = 0;\n",
        "  aux1= 0;\n",
        "  cocientes.pop()\n",
        "  for i in cocientes:\n",
        "    aux1 = t\n",
        "    t = tanterior - i*t\n",
        "    tanterior = aux1 \n",
        "   \n",
        "\n",
        "  for j in cocientes:\n",
        "    aux2 = s\n",
        "    s = santerior - j*s\n",
        "    santerior = aux2\n",
        "    \n",
        "  \n",
        "  print('El inverso modular es' , t)"
      ],
      "metadata": {
        "id": "4PT9xMPgtSBG"
      },
      "execution_count": null,
      "outputs": []
    },
    {
      "cell_type": "code",
      "source": [
        "euclides(587, 50)\n"
      ],
      "metadata": {
        "colab": {
          "base_uri": "https://localhost:8080/"
        },
        "id": "wfVw48udGhjD",
        "outputId": "5dfea4c4-3ca1-43dd-d52a-5be3c913c938"
      },
      "execution_count": null,
      "outputs": [
        {
          "output_type": "stream",
          "name": "stdout",
          "text": [
            "El inverso modular es 23\n"
          ]
        }
      ]
    },
    {
      "cell_type": "code",
      "source": [
        "\n"
      ],
      "metadata": {
        "id": "m03dk1G2kTw-"
      },
      "execution_count": null,
      "outputs": []
    }
  ]
}