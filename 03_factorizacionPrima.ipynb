{
  "nbformat": 4,
  "nbformat_minor": 0,
  "metadata": {
    "colab": {
      "name": "03_factorizacionPrima.ipynb",
      "provenance": [],
      "collapsed_sections": [],
      "include_colab_link": true
    },
    "kernelspec": {
      "name": "python3",
      "display_name": "Python 3"
    },
    "language_info": {
      "name": "python"
    }
  },
  "cells": [
    {
      "cell_type": "markdown",
      "metadata": {
        "id": "view-in-github",
        "colab_type": "text"
      },
      "source": [
        "<a href=\"https://colab.research.google.com/github/Nelson09210921/TallerPython/blob/main/03_factorizacionPrima.ipynb\" target=\"_parent\"><img src=\"https://colab.research.google.com/assets/colab-badge.svg\" alt=\"Open In Colab\"/></a>"
      ]
    },
    {
      "cell_type": "code",
      "execution_count": null,
      "metadata": {
        "id": "fWP7ElCnxvmA"
      },
      "outputs": [],
      "source": [
        "#Punto 3\n",
        "def factoriza(n):\n",
        "  \n",
        "  primos = []\n",
        "  exponentes = []\n",
        "\n",
        "  for i in range(2, n+1):\n",
        "    \n",
        "    while n%i == 0:\n",
        "\n",
        "      if(contador(i, primos) == 0):\n",
        "        primos.append(i)\n",
        "        exponentes.append(1)\n",
        "        n=n/i\n",
        "        \n",
        "        \n",
        "      else:\n",
        "        cant = contador(i,primos)\n",
        "        posicion = obtenerpsocicion(i,primos)\n",
        "        exponentes[posicion] = cant+1\n",
        "        n=n/i\n",
        "        \n",
        "\n",
        "      \n",
        "      \n",
        "  return primos, exponentes\n",
        "\n"
      ]
    },
    {
      "cell_type": "code",
      "source": [
        "def contador(a, primos):\n",
        "  contador = 0;\n",
        "  for i in primos:\n",
        "    if(i == a):\n",
        "      contador = contador +1 \n",
        "  return contador"
      ],
      "metadata": {
        "id": "ksWssaq91jSy"
      },
      "execution_count": null,
      "outputs": []
    },
    {
      "cell_type": "code",
      "source": [
        "def obtenerpsocicion(a, primos):\n",
        "  for j in primos:\n",
        "    if(j == a):\n",
        "       return primos.index(j)"
      ],
      "metadata": {
        "id": "jKH53ymX6Lh4"
      },
      "execution_count": null,
      "outputs": []
    },
    {
      "cell_type": "code",
      "source": [
        "factoriza(60)"
      ],
      "metadata": {
        "colab": {
          "base_uri": "https://localhost:8080/"
        },
        "id": "RTUQWieb-fYF",
        "outputId": "a6bb841a-9c40-43ae-91b8-717ac34da192"
      },
      "execution_count": null,
      "outputs": [
        {
          "output_type": "execute_result",
          "data": {
            "text/plain": [
              "([2, 3, 5], [2, 1, 1])"
            ]
          },
          "metadata": {},
          "execution_count": 110
        }
      ]
    }
  ]
}