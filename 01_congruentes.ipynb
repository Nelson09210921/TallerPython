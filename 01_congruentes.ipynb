{
  "nbformat": 4,
  "nbformat_minor": 0,
  "metadata": {
    "colab": {
      "name": "01_congruentes.ipynb",
      "provenance": [],
      "include_colab_link": true
    },
    "kernelspec": {
      "name": "python3",
      "display_name": "Python 3"
    },
    "language_info": {
      "name": "python"
    }
  },
  "cells": [
    {
      "cell_type": "markdown",
      "metadata": {
        "id": "view-in-github",
        "colab_type": "text"
      },
      "source": [
        "<a href=\"https://colab.research.google.com/github/Nelson09210921/TallerPython/blob/main/01_congruentes.ipynb\" target=\"_parent\"><img src=\"https://colab.research.google.com/assets/colab-badge.svg\" alt=\"Open In Colab\"/></a>"
      ]
    },
    {
      "cell_type": "code",
      "execution_count": null,
      "metadata": {
        "id": "bLTkur-Arb9l"
      },
      "outputs": [],
      "source": [
        "#Punto 1 \n",
        "#(guardar como: '01_congruentes.ipynb'). Defina una función\n",
        "#son_congruentes(a,b,m) cuyo output es el string \"Si!\" si , \"NO!\"\n",
        "#en caso contrario.\n",
        "\n",
        "def son_congruentes(a,b,m):\n",
        "\n",
        "  #La pregunta es a=b mod m\n",
        "  modulo = a%m\n",
        "  \n",
        "  if(modulo == b):\n",
        "      return \"Si!\"\n",
        "      \n",
        "  else:\n",
        "    return \"No!\"\n",
        "\n"
      ]
    },
    {
      "cell_type": "code",
      "source": [
        "print(son_congruentes(44,0,9))"
      ],
      "metadata": {
        "colab": {
          "base_uri": "https://localhost:8080/"
        },
        "id": "4Z9IS85rvzCL",
        "outputId": "2b858385-a8f1-4b53-f9be-646100943a62"
      },
      "execution_count": null,
      "outputs": [
        {
          "output_type": "stream",
          "name": "stdout",
          "text": [
            "No!\n"
          ]
        }
      ]
    }
  ]
}